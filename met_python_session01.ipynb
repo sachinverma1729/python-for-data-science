{
 "cells": [
  {
   "cell_type": "code",
   "execution_count": 1,
   "id": "26dfcade",
   "metadata": {},
   "outputs": [],
   "source": [
    "## Functions"
   ]
  },
  {
   "cell_type": "code",
   "execution_count": 33,
   "id": "c242f672",
   "metadata": {},
   "outputs": [],
   "source": [
    "def neha(a,b,c):\n",
    "    print(a+b+c)"
   ]
  },
  {
   "cell_type": "code",
   "execution_count": 34,
   "id": "c917605b",
   "metadata": {},
   "outputs": [
    {
     "name": "stdout",
     "output_type": "stream",
     "text": [
      "5\n"
     ]
    }
   ],
   "source": [
    "neha(2,3)"
   ]
  },
  {
   "cell_type": "code",
   "execution_count": null,
   "id": "0353e0c6",
   "metadata": {},
   "outputs": [],
   "source": []
  },
  {
   "cell_type": "markdown",
   "id": "566b2399",
   "metadata": {},
   "source": [
    "def functionname(para1, para2,...):\n",
    "    function body\n",
    "    \n",
    "    "
   ]
  },
  {
   "cell_type": "code",
   "execution_count": 35,
   "id": "2142be88",
   "metadata": {},
   "outputs": [
    {
     "name": "stdout",
     "output_type": "stream",
     "text": [
      "Enter First Number : 2\n",
      "Enter Second Number : 3\n",
      "5\n"
     ]
    }
   ],
   "source": [
    "A = int(input(\"Enter First Number : \"))\n",
    "B = int(input(\"Enter Second Number : \"))\n",
    "p = A+B\n",
    "print(p)"
   ]
  },
  {
   "cell_type": "code",
   "execution_count": 38,
   "id": "f3fdf309",
   "metadata": {},
   "outputs": [],
   "source": [
    "#Dhru' s idea\n",
    "\n",
    "\n",
    "def sum():\n",
    "    a = int(input(\"Enter First Number : \"))\n",
    "    b = int(input(\"Enter Second Number : \"))\n",
    "    sum=a+b\n",
    "    print(sum)\n",
    "    "
   ]
  },
  {
   "cell_type": "code",
   "execution_count": null,
   "id": "414a2a59",
   "metadata": {},
   "outputs": [],
   "source": []
  },
  {
   "cell_type": "code",
   "execution_count": 42,
   "id": "84453dc1",
   "metadata": {},
   "outputs": [],
   "source": [
    "def sub():\n",
    "    a = int(input(\"Enter First Number : \"))\n",
    "    b = int(input(\"Enter Second Number : \"))\n",
    "    sub=a-b\n",
    "    print('The difference of numbers is',sub)"
   ]
  },
  {
   "cell_type": "code",
   "execution_count": 43,
   "id": "c6fc5e74",
   "metadata": {},
   "outputs": [
    {
     "name": "stdout",
     "output_type": "stream",
     "text": [
      "Enter First Number : 5\n",
      "Enter Second Number : 3\n",
      "The difference of numbers is 2\n"
     ]
    }
   ],
   "source": [
    "sub()"
   ]
  },
  {
   "cell_type": "code",
   "execution_count": 40,
   "id": "c09cd286",
   "metadata": {},
   "outputs": [
    {
     "name": "stdout",
     "output_type": "stream",
     "text": [
      "Enter First Number : 1\n",
      "Enter Second Number : 2\n",
      "3\n"
     ]
    }
   ],
   "source": [
    "#Calling the function\n",
    "sum()\n"
   ]
  },
  {
   "cell_type": "markdown",
   "id": "82e76de2",
   "metadata": {},
   "source": [
    "Q. A function that accepts two values and find their sum."
   ]
  },
  {
   "cell_type": "code",
   "execution_count": null,
   "id": "0bcba0be",
   "metadata": {},
   "outputs": [],
   "source": []
  },
  {
   "cell_type": "code",
   "execution_count": null,
   "id": "99f3d458",
   "metadata": {},
   "outputs": [],
   "source": []
  },
  {
   "cell_type": "markdown",
   "id": "08b5f338",
   "metadata": {},
   "source": [
    "Q.2 A function to test whether a number is even or odd"
   ]
  },
  {
   "cell_type": "code",
   "execution_count": 4,
   "id": "de5ba702",
   "metadata": {},
   "outputs": [],
   "source": [
    "def even_odd(num):\n",
    "    if num%2==0:  # meaning of num%2==2\n",
    "        print(num,\"is even.\")\n",
    "    else:\n",
    "        print(num, \"is odd.\")"
   ]
  },
  {
   "cell_type": "code",
   "execution_count": 5,
   "id": "063f67d9",
   "metadata": {},
   "outputs": [
    {
     "name": "stdout",
     "output_type": "stream",
     "text": [
      "23 is odd.\n"
     ]
    }
   ],
   "source": [
    "even_odd(23)"
   ]
  },
  {
   "cell_type": "code",
   "execution_count": null,
   "id": "d6946c36",
   "metadata": {},
   "outputs": [],
   "source": [
    "#Sheetal Sawant' s code\n",
    "a=int(input(\"Enter First number=\"))\n",
    "if a%2==0:\n",
    "  print(\"The number is even\")\n",
    "else:\n",
    "  print(\"The number is odd\")"
   ]
  },
  {
   "cell_type": "markdown",
   "id": "631ab71c",
   "metadata": {},
   "source": [
    "Return multiple values from a function"
   ]
  },
  {
   "cell_type": "code",
   "execution_count": 8,
   "id": "07bc7ed0",
   "metadata": {},
   "outputs": [],
   "source": [
    "def sum_sub(a,b):\n",
    "    c=a+b\n",
    "    d=a-b\n",
    "    return c,d"
   ]
  },
  {
   "cell_type": "code",
   "execution_count": 9,
   "id": "7267869b",
   "metadata": {},
   "outputs": [
    {
     "data": {
      "text/plain": [
       "(21, -1)"
      ]
     },
     "execution_count": 9,
     "metadata": {},
     "output_type": "execute_result"
    }
   ],
   "source": [
    "sum_sub(10,11)"
   ]
  },
  {
   "cell_type": "code",
   "execution_count": 10,
   "id": "f177c226",
   "metadata": {},
   "outputs": [],
   "source": [
    "x,y=sum_sub(10,11)"
   ]
  },
  {
   "cell_type": "code",
   "execution_count": 11,
   "id": "d321af3e",
   "metadata": {},
   "outputs": [
    {
     "data": {
      "text/plain": [
       "21"
      ]
     },
     "execution_count": 11,
     "metadata": {},
     "output_type": "execute_result"
    }
   ],
   "source": [
    "x"
   ]
  },
  {
   "cell_type": "code",
   "execution_count": 12,
   "id": "43cd2892",
   "metadata": {},
   "outputs": [
    {
     "data": {
      "text/plain": [
       "-1"
      ]
     },
     "execution_count": 12,
     "metadata": {},
     "output_type": "execute_result"
    }
   ],
   "source": [
    "y"
   ]
  },
  {
   "cell_type": "markdown",
   "id": "079c4b49",
   "metadata": {},
   "source": [
    "A function that returns the results of addition, subtraction, multiplication and division."
   ]
  },
  {
   "cell_type": "code",
   "execution_count": 45,
   "id": "cade29cc",
   "metadata": {},
   "outputs": [],
   "source": [
    "def sum_sub_mul_div(a,b):\n",
    "    c=a+b\n",
    "    d=a-b\n",
    "    e=a*b\n",
    "    f=np.round(a/b,decimals=4)\n",
    "    return c,d,e,f\n"
   ]
  },
  {
   "cell_type": "code",
   "execution_count": 46,
   "id": "5e12a369",
   "metadata": {},
   "outputs": [],
   "source": [
    "t=sum_sub_mul_div(10,11)"
   ]
  },
  {
   "cell_type": "markdown",
   "id": "32b8b552",
   "metadata": {},
   "source": [
    "\n",
    "for i in t:\n"
   ]
  },
  {
   "cell_type": "code",
   "execution_count": 47,
   "id": "39ef8f46",
   "metadata": {},
   "outputs": [
    {
     "name": "stdout",
     "output_type": "stream",
     "text": [
      "21,-1,110,0.9091,"
     ]
    }
   ],
   "source": [
    "for i in t:\n",
    "    print(i,end=',')"
   ]
  },
  {
   "cell_type": "markdown",
   "id": "2f3c985a",
   "metadata": {},
   "source": [
    "### Are you happy with 0.9090909090909091?"
   ]
  },
  {
   "cell_type": "code",
   "execution_count": 44,
   "id": "94256016",
   "metadata": {},
   "outputs": [],
   "source": [
    "# We will roundoff this\n",
    "import numpy as np\n",
    "\n",
    "def sum_sub_mul_div(a,b):\n",
    "    c=a+b\n",
    "    d=a-b\n",
    "    e=a*b\n",
    "    f=np.round(a/b,decimals=4)\n",
    "    return c,d,e,f\n",
    "\n"
   ]
  },
  {
   "cell_type": "markdown",
   "id": "590525b1",
   "metadata": {},
   "source": [
    "## Q. A function that calculates square values"
   ]
  },
  {
   "cell_type": "code",
   "execution_count": 53,
   "id": "787dab39",
   "metadata": {},
   "outputs": [],
   "source": [
    "#sheetal' work\n",
    "def vol_cbd():\n",
    "    L=int(input(\"Enter the length of cuboid=\"))\n",
    "    B=int(input(\"Enter the breadth of cuboid=\"))\n",
    "    H=int(input(\"Enter the height of cuboid=\"))\n",
    "    print(\"The volume of cuboid is\",L*B*H)\n",
    "    return L*B*H\n",
    "    "
   ]
  },
  {
   "cell_type": "code",
   "execution_count": 54,
   "id": "c9457fa3",
   "metadata": {},
   "outputs": [
    {
     "name": "stdout",
     "output_type": "stream",
     "text": [
      "Enter the length of cuboid=10\n",
      "Enter the breadth of cuboid=8\n",
      "Enter the height of cuboid=6\n",
      "The volume of cuboid is 480\n"
     ]
    },
    {
     "data": {
      "text/plain": [
       "480"
      ]
     },
     "execution_count": 54,
     "metadata": {},
     "output_type": "execute_result"
    }
   ],
   "source": [
    "vol_cbd()"
   ]
  },
  {
   "cell_type": "code",
   "execution_count": 16,
   "id": "35b6cde4",
   "metadata": {},
   "outputs": [],
   "source": [
    "#Positional arguements"
   ]
  },
  {
   "cell_type": "code",
   "execution_count": 17,
   "id": "a3ab6921",
   "metadata": {},
   "outputs": [],
   "source": [
    "def attach(s1,s2):\n",
    "    s3=s1+s2\n",
    "    print(s3)"
   ]
  },
  {
   "cell_type": "code",
   "execution_count": 18,
   "id": "e64296e6",
   "metadata": {},
   "outputs": [
    {
     "name": "stdout",
     "output_type": "stream",
     "text": [
      "Sachin  Verma\n"
     ]
    }
   ],
   "source": [
    "attach('Sachin','  Verma')"
   ]
  },
  {
   "cell_type": "code",
   "execution_count": 19,
   "id": "411fcc10",
   "metadata": {},
   "outputs": [],
   "source": [
    "# Keyword arguments"
   ]
  },
  {
   "cell_type": "code",
   "execution_count": 24,
   "id": "95a782f2",
   "metadata": {},
   "outputs": [],
   "source": [
    "def grocery(item,price):\n",
    "    print('Item=%s'% item)\n",
    "    print('Price=%.2f'% price)"
   ]
  },
  {
   "cell_type": "code",
   "execution_count": 26,
   "id": "90e00b04",
   "metadata": {},
   "outputs": [
    {
     "name": "stdout",
     "output_type": "stream",
     "text": [
      "Item=Sugar\n",
      "Price=42.00\n"
     ]
    }
   ],
   "source": [
    "grocery(item='Sugar',price=42)"
   ]
  },
  {
   "cell_type": "code",
   "execution_count": 27,
   "id": "982a3944",
   "metadata": {},
   "outputs": [],
   "source": [
    "def abss(x):\n",
    "    if(x>0):\n",
    "        print(x)\n",
    "    else:\n",
    "        print(-x)"
   ]
  },
  {
   "cell_type": "code",
   "execution_count": 28,
   "id": "6d02aa99",
   "metadata": {},
   "outputs": [
    {
     "name": "stdout",
     "output_type": "stream",
     "text": [
      "4\n"
     ]
    }
   ],
   "source": [
    "abss(4)"
   ]
  },
  {
   "cell_type": "code",
   "execution_count": 29,
   "id": "d5791eda",
   "metadata": {},
   "outputs": [
    {
     "name": "stdout",
     "output_type": "stream",
     "text": [
      "4\n"
     ]
    }
   ],
   "source": [
    "abss(-4)"
   ]
  },
  {
   "cell_type": "code",
   "execution_count": 30,
   "id": "305c4b89",
   "metadata": {},
   "outputs": [],
   "source": [
    "def avg(S):\n",
    "    total=0\n",
    "    for x in S:\n",
    "        total=total+x\n",
    "    return total/len(S)\n",
    "        "
   ]
  },
  {
   "cell_type": "code",
   "execution_count": 31,
   "id": "1e6572fe",
   "metadata": {},
   "outputs": [],
   "source": [
    "S=[1,2,3,4,5]"
   ]
  },
  {
   "cell_type": "code",
   "execution_count": 32,
   "id": "d56402ce",
   "metadata": {},
   "outputs": [
    {
     "data": {
      "text/plain": [
       "3.0"
      ]
     },
     "execution_count": 32,
     "metadata": {},
     "output_type": "execute_result"
    }
   ],
   "source": [
    "avg(S)"
   ]
  },
  {
   "cell_type": "code",
   "execution_count": null,
   "id": "05e25036",
   "metadata": {},
   "outputs": [],
   "source": []
  }
 ],
 "metadata": {
  "kernelspec": {
   "display_name": "Python 3 (ipykernel)",
   "language": "python",
   "name": "python3"
  },
  "language_info": {
   "codemirror_mode": {
    "name": "ipython",
    "version": 3
   },
   "file_extension": ".py",
   "mimetype": "text/x-python",
   "name": "python",
   "nbconvert_exporter": "python",
   "pygments_lexer": "ipython3",
   "version": "3.9.7"
  }
 },
 "nbformat": 4,
 "nbformat_minor": 5
}
